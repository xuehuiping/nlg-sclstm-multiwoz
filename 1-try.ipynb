{
 "cells": [
  {
   "cell_type": "code",
   "execution_count": 1,
   "metadata": {},
   "outputs": [
    {
     "name": "stdout",
     "output_type": "stream",
     "text": [
      "Processing data...\n",
      "# of turns\n",
      "Train: 25980\n",
      "Valid: 3128\n",
      "Test: 3113\n",
      "# of batches: Train 101 Valid 12 Test 12\n",
      "Using deep version with 1 layer\n",
      "./sclstm.pt\n",
      "Traceback (most recent call last):\n",
      "  File \"run_woz3.py\", line 330, in <module>\n",
      "    test(config, args)\n",
      "  File \"run_woz3.py\", line 272, in test\n",
      "    dataset, model = read(config, args, 'test')\n",
      "  File \"run_woz3.py\", line 213, in read\n",
      "    model.load_state_dict(torch.load(model_path))\n",
      "  File \"/usr/local/lib/python3.6/dist-packages/torch/nn/modules/module.py\", line 830, in load_state_dict\n",
      "    self.__class__.__name__, \"\\n\\t\".join(error_msgs)))\n",
      "RuntimeError: Error(s) in loading state_dict for LM_deep:\n",
      "\tsize mismatch for dec.w2h.0.weight: copying a param with shape torch.Size([512, 1345]) from checkpoint, the shape in current model is torch.Size([400, 1345]).\n",
      "\tsize mismatch for dec.w2h.0.bias: copying a param with shape torch.Size([512]) from checkpoint, the shape in current model is torch.Size([400]).\n",
      "\tsize mismatch for dec.h2h.0.weight: copying a param with shape torch.Size([512, 128]) from checkpoint, the shape in current model is torch.Size([400, 100]).\n",
      "\tsize mismatch for dec.h2h.0.bias: copying a param with shape torch.Size([512]) from checkpoint, the shape in current model is torch.Size([400]).\n",
      "\tsize mismatch for dec.h2h_r.0.weight: copying a param with shape torch.Size([593, 128]) from checkpoint, the shape in current model is torch.Size([593, 100]).\n",
      "\tsize mismatch for dec.dc.0.weight: copying a param with shape torch.Size([128, 593]) from checkpoint, the shape in current model is torch.Size([100, 593]).\n",
      "\tsize mismatch for dec.out.weight: copying a param with shape torch.Size([1345, 128]) from checkpoint, the shape in current model is torch.Size([1345, 100]).\n"
     ]
    }
   ],
   "source": [
    "!sh test.sh"
   ]
  },
  {
   "cell_type": "code",
   "execution_count": 3,
   "metadata": {},
   "outputs": [
    {
     "name": "stdout",
     "output_type": "stream",
     "text": [
      "Start gen\r\n",
      "TEST TYPE: gen\r\n",
      "Ignore General Acts: False\r\n",
      "Calculating BLEU...\r\n",
      "Avg # feat: 0\r\n",
      "Traceback (most recent call last):\r\n",
      "  File \"bleu.py\", line 173, in <module>\r\n",
      "    get_bleu(feat2content, template=args.template, ignore=args.ignore)\r\n",
      "  File \"bleu.py\", line 143, in get_bleu\r\n",
      "    print( 'Avg # gen: {:.2f}'.format(gen_count / len(feat2content)) )\r\n",
      "ZeroDivisionError: division by zero\r\n"
     ]
    }
   ],
   "source": [
    "!sh bleu.sh"
   ]
  },
  {
   "cell_type": "code",
   "execution_count": 4,
   "metadata": {},
   "outputs": [
    {
     "name": "stdout",
     "output_type": "stream",
     "text": [
      "resource/woz3/data_split/Boo_ResDataSplitRand0925.json\r\n"
     ]
    }
   ],
   "source": [
    "!ls resource/woz3/data_split/Boo_ResDataSplitRand0925.json"
   ]
  },
  {
   "cell_type": "code",
   "execution_count": 6,
   "metadata": {},
   "outputs": [
    {
     "name": "stdout",
     "output_type": "stream",
     "text": [
      "Processing data...\n",
      "# of turns\n",
      "Train: 25980\n",
      "Valid: 3128\n",
      "Test: 3113\n",
      "# of batches: Train 101 Valid 12 Test 12\n",
      "Using deep version with 1 layer\n",
      "Start training\n",
      "Epoch 0 (n_layer 1)\n",
      "/usr/local/lib/python3.6/dist-packages/torch/nn/functional.py:1351: UserWarning: nn.functional.sigmoid is deprecated. Use torch.sigmoid instead.\n",
      "  warnings.warn(\"nn.functional.sigmoid is deprecated. Use torch.sigmoid instead.\")\n",
      "/usr/local/lib/python3.6/dist-packages/torch/nn/functional.py:1340: UserWarning: nn.functional.tanh is deprecated. Use torch.tanh instead.\n",
      "  warnings.warn(\"nn.functional.tanh is deprecated. Use torch.tanh instead.\")\n",
      "Traceback (most recent call last):\n",
      "  File \"run_woz3.py\", line 327, in <module>\n",
      "    train(config, args)\n",
      "  File \"run_woz3.py\", line 250, in train\n",
      "    train_epoch(config, dataset, model)\n",
      "  File \"run_woz3.py\", line 150, in train_epoch\n",
      "    _ = model(input_var, dataset, feats_var)\n",
      "  File \"/usr/local/lib/python3.6/dist-packages/torch/nn/modules/module.py\", line 532, in __call__\n",
      "    result = self.forward(*input, **kwargs)\n",
      "  File \"/home/xuehp/git/nlg-sclstm-multiwoz/model/lm_deep.py\", line 47, in forward\n",
      "    gen=gen, sample_size=sample_size)\n",
      "  File \"/usr/local/lib/python3.6/dist-packages/torch/nn/modules/module.py\", line 532, in __call__\n",
      "    result = self.forward(*input, **kwargs)\n",
      "  File \"/home/xuehp/git/nlg-sclstm-multiwoz/model/layers/decoder_deep.py\", line 149, in forward\n",
      "    previous_out = self.logits2words(output, decoded_words, dataset, sample_size)\n",
      "  File \"/home/xuehp/git/nlg-sclstm-multiwoz/model/layers/decoder_deep.py\", line 206, in logits2words\n",
      "    word = dataset.index2word[idx]\n",
      "KeyError: tensor(1271, device='cuda:0')\n"
     ]
    }
   ],
   "source": [
    "!sh run.sh"
   ]
  },
  {
   "cell_type": "code",
   "execution_count": 8,
   "metadata": {},
   "outputs": [
    {
     "name": "stdout",
     "output_type": "stream",
     "text": [
      "Processing data...\n",
      "# of turns\n",
      "Train: 25980\n",
      "Valid: 3128\n",
      "Test: 3113\n",
      "# of batches: Train 101 Valid 12 Test 12\n",
      "Using deep version with 1 layer\n",
      "Start training\n",
      "Epoch 0 (n_layer 1)\n",
      "/usr/local/lib/python3.6/dist-packages/torch/nn/functional.py:1351: UserWarning: nn.functional.sigmoid is deprecated. Use torch.sigmoid instead.\n",
      "  warnings.warn(\"nn.functional.sigmoid is deprecated. Use torch.sigmoid instead.\")\n",
      "/usr/local/lib/python3.6/dist-packages/torch/nn/functional.py:1340: UserWarning: nn.functional.tanh is deprecated. Use torch.tanh instead.\n",
      "  warnings.warn(\"nn.functional.tanh is deprecated. Use torch.tanh instead.\")\n",
      "Traceback (most recent call last):\n",
      "  File \"run_woz3.py\", line 327, in <module>\n",
      "    train(config, args)\n",
      "  File \"run_woz3.py\", line 250, in train\n",
      "    train_epoch(config, dataset, model)\n",
      "  File \"run_woz3.py\", line 150, in train_epoch\n",
      "    _ = model(input_var, dataset, feats_var)\n",
      "  File \"/usr/local/lib/python3.6/dist-packages/torch/nn/modules/module.py\", line 532, in __call__\n",
      "    result = self.forward(*input, **kwargs)\n",
      "  File \"/home/xuehp/git/nlg-sclstm-multiwoz/model/lm_deep.py\", line 47, in forward\n",
      "    gen=gen, sample_size=sample_size)\n",
      "  File \"/usr/local/lib/python3.6/dist-packages/torch/nn/modules/module.py\", line 532, in __call__\n",
      "    result = self.forward(*input, **kwargs)\n",
      "  File \"/home/xuehp/git/nlg-sclstm-multiwoz/model/layers/decoder_deep.py\", line 149, in forward\n",
      "    previous_out = self.logits2words(output, decoded_words, dataset, sample_size)\n",
      "  File \"/home/xuehp/git/nlg-sclstm-multiwoz/model/layers/decoder_deep.py\", line 206, in logits2words\n",
      "    print('idx='+idx)\n",
      "TypeError: must be str, not Tensor\n"
     ]
    }
   ],
   "source": [
    "!sh run.sh"
   ]
  },
  {
   "cell_type": "code",
   "execution_count": 9,
   "metadata": {},
   "outputs": [
    {
     "name": "stdout",
     "output_type": "stream",
     "text": [
      "Processing data...\n",
      "# of turns\n",
      "Train: 25980\n",
      "Valid: 3128\n",
      "Test: 3113\n",
      "# of batches: Train 101 Valid 12 Test 12\n",
      "Using deep version with 1 layer\n",
      "Start training\n",
      "Epoch 0 (n_layer 1)\n",
      "/usr/local/lib/python3.6/dist-packages/torch/nn/functional.py:1351: UserWarning: nn.functional.sigmoid is deprecated. Use torch.sigmoid instead.\n",
      "  warnings.warn(\"nn.functional.sigmoid is deprecated. Use torch.sigmoid instead.\")\n",
      "/usr/local/lib/python3.6/dist-packages/torch/nn/functional.py:1340: UserWarning: nn.functional.tanh is deprecated. Use torch.tanh instead.\n",
      "  warnings.warn(\"nn.functional.tanh is deprecated. Use torch.tanh instead.\")\n",
      "Traceback (most recent call last):\n",
      "  File \"run_woz3.py\", line 327, in <module>\n",
      "    train(config, args)\n",
      "  File \"run_woz3.py\", line 250, in train\n",
      "    train_epoch(config, dataset, model)\n",
      "  File \"run_woz3.py\", line 150, in train_epoch\n",
      "    _ = model(input_var, dataset, feats_var)\n",
      "  File \"/usr/local/lib/python3.6/dist-packages/torch/nn/modules/module.py\", line 532, in __call__\n",
      "    result = self.forward(*input, **kwargs)\n",
      "  File \"/home/xuehp/git/nlg-sclstm-multiwoz/model/lm_deep.py\", line 47, in forward\n",
      "    gen=gen, sample_size=sample_size)\n",
      "  File \"/usr/local/lib/python3.6/dist-packages/torch/nn/modules/module.py\", line 532, in __call__\n",
      "    result = self.forward(*input, **kwargs)\n",
      "  File \"/home/xuehp/git/nlg-sclstm-multiwoz/model/layers/decoder_deep.py\", line 149, in forward\n",
      "    previous_out = self.logits2words(output, decoded_words, dataset, sample_size)\n",
      "  File \"/home/xuehp/git/nlg-sclstm-multiwoz/model/layers/decoder_deep.py\", line 206, in logits2words\n",
      "    word = dataset.index2word[idx]\n",
      "KeyError: tensor(133, device='cuda:0')\n"
     ]
    }
   ],
   "source": [
    "!sh run.sh"
   ]
  },
  {
   "cell_type": "code",
   "execution_count": null,
   "metadata": {},
   "outputs": [],
   "source": []
  }
 ],
 "metadata": {
  "kernelspec": {
   "display_name": "Python 3",
   "language": "python",
   "name": "python3"
  },
  "language_info": {
   "codemirror_mode": {
    "name": "ipython",
    "version": 3
   },
   "file_extension": ".py",
   "mimetype": "text/x-python",
   "name": "python",
   "nbconvert_exporter": "python",
   "pygments_lexer": "ipython3",
   "version": "3.6.9"
  }
 },
 "nbformat": 4,
 "nbformat_minor": 2
}
