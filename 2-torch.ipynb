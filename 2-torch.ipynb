{
 "cells": [
  {
   "cell_type": "code",
   "execution_count": 2,
   "metadata": {},
   "outputs": [
    {
     "name": "stdout",
     "output_type": "stream",
     "text": [
      "\u001b[31mDEPRECATION: The default format will switch to columns in the future. You can use --format=(legacy|columns) (or define a format=(legacy|columns) in your pip.conf under the [list] section) to disable this warning.\u001b[0m\r\n",
      "absl-py (0.9.0)\r\n",
      "asn1crypto (0.24.0)\r\n",
      "astor (0.8.1)\r\n",
      "attrs (19.3.0)\r\n",
      "backcall (0.1.0)\r\n",
      "bleach (3.1.4)\r\n",
      "certifi (2019.11.28)\r\n",
      "chardet (3.0.4)\r\n",
      "click (7.1.1)\r\n",
      "cloud-init (19.1.3)\r\n",
      "command-not-found (0.3)\r\n",
      "configobj (5.0.6)\r\n",
      "cryptography (2.1.4)\r\n",
      "decorator (4.4.2)\r\n",
      "defusedxml (0.6.0)\r\n",
      "distro-info (0.18ubuntu0.18.04.1)\r\n",
      "entrypoints (0.3)\r\n",
      "gast (0.3.3)\r\n",
      "google-pasta (0.2.0)\r\n",
      "grpcio (1.28.1)\r\n",
      "h5py (2.10.0)\r\n",
      "html5lib (0.999999999)\r\n",
      "idna (2.9)\r\n",
      "importlib-metadata (1.6.0)\r\n",
      "ipykernel (5.2.1)\r\n",
      "ipython (7.13.0)\r\n",
      "ipython-genutils (0.2.0)\r\n",
      "ipywidgets (7.5.1)\r\n",
      "jedi (0.17.0)\r\n",
      "Jinja2 (2.11.2)\r\n",
      "joblib (0.14.1)\r\n",
      "jsonpatch (1.25)\r\n",
      "jsonpointer (2.0)\r\n",
      "jsonschema (3.2.0)\r\n",
      "jupyter (1.0.0)\r\n",
      "jupyter-client (6.1.3)\r\n",
      "jupyter-console (6.1.0)\r\n",
      "jupyter-core (4.6.3)\r\n",
      "Keras-Applications (1.0.8)\r\n",
      "Keras-Preprocessing (1.1.0)\r\n",
      "keyring (10.6.0)\r\n",
      "keyrings.alt (3.0)\r\n",
      "language-selector (0.1)\r\n",
      "Markdown (3.2.1)\r\n",
      "MarkupSafe (1.1.1)\r\n",
      "mistune (0.8.4)\r\n",
      "nbconvert (5.6.1)\r\n",
      "nbformat (5.0.6)\r\n",
      "netifaces (0.10.4)\r\n",
      "nltk (3.5)\r\n",
      "notebook (6.0.3)\r\n",
      "numpy (1.18.3)\r\n",
      "oauthlib (3.1.0)\r\n",
      "pandocfilters (1.4.2)\r\n",
      "parso (0.7.0)\r\n",
      "pexpect (4.8.0)\r\n",
      "pickleshare (0.7.5)\r\n",
      "pip (9.0.1)\r\n",
      "prometheus-client (0.7.1)\r\n",
      "prompt-toolkit (3.0.5)\r\n",
      "protobuf (3.11.3)\r\n",
      "ptyprocess (0.6.0)\r\n",
      "pycrypto (2.6.1)\r\n",
      "Pygments (2.6.1)\r\n",
      "pygobject (3.26.1)\r\n",
      "pyrsistent (0.16.0)\r\n",
      "python-apt (1.6.5+ubuntu0.2)\r\n",
      "python-dateutil (2.8.1)\r\n",
      "pyxdg (0.25)\r\n",
      "PyYAML (5.3.1)\r\n",
      "pyzmq (19.0.0)\r\n",
      "qtconsole (4.7.3)\r\n",
      "QtPy (1.9.0)\r\n",
      "regex (2020.4.4)\r\n",
      "requests (2.23.0)\r\n",
      "screen-resolution-extra (0.0.0)\r\n",
      "SecretStorage (2.3.1)\r\n",
      "Send2Trash (1.5.0)\r\n",
      "setuptools (46.1.3)\r\n",
      "simplegeneric (0.8.1)\r\n",
      "six (1.14.0)\r\n",
      "ssh-import-id (5.7)\r\n",
      "tensorboard (1.14.0)\r\n",
      "tensorflow (1.14.0)\r\n",
      "tensorflow-estimator (1.14.0)\r\n",
      "termcolor (1.1.0)\r\n",
      "terminado (0.8.3)\r\n",
      "testpath (0.4.4)\r\n",
      "torch (1.4.0)\r\n",
      "tornado (6.0.4)\r\n",
      "tqdm (4.45.0)\r\n",
      "traitlets (4.3.3)\r\n",
      "ufw (0.36)\r\n",
      "urllib3 (1.25.8)\r\n",
      "wcwidth (0.1.9)\r\n",
      "webencodings (0.5.1)\r\n",
      "Werkzeug (1.0.1)\r\n",
      "wheel (0.30.0)\r\n",
      "widgetsnbextension (3.5.1)\r\n",
      "wrapt (1.12.1)\r\n",
      "xkit (0.0.0)\r\n",
      "zipp (3.1.0)\r\n"
     ]
    }
   ],
   "source": [
    "!pip3 list"
   ]
  },
  {
   "cell_type": "code",
   "execution_count": null,
   "metadata": {},
   "outputs": [],
   "source": [
    "!pip3 install torch==1.5.0 -i https://pypi.tuna.tsinghua.edu.cn/simple"
   ]
  },
  {
   "cell_type": "code",
   "execution_count": 3,
   "metadata": {},
   "outputs": [
    {
     "name": "stdout",
     "output_type": "stream",
     "text": [
      "tensor([[0.4965, 0.4671, 0.4585],\n",
      "        [0.4805, 0.0237, 0.7625],\n",
      "        [0.0017, 0.8025, 0.4202],\n",
      "        [0.8505, 0.4025, 0.5003],\n",
      "        [0.6576, 0.2108, 0.3064]])\n"
     ]
    }
   ],
   "source": [
    "from __future__ import print_function\n",
    "import torch\n",
    "x = torch.rand(5, 3)\n",
    "print(x)"
   ]
  },
  {
   "cell_type": "code",
   "execution_count": null,
   "metadata": {},
   "outputs": [],
   "source": []
  }
 ],
 "metadata": {
  "kernelspec": {
   "display_name": "Python 3",
   "language": "python",
   "name": "python3"
  },
  "language_info": {
   "codemirror_mode": {
    "name": "ipython",
    "version": 3
   },
   "file_extension": ".py",
   "mimetype": "text/x-python",
   "name": "python",
   "nbconvert_exporter": "python",
   "pygments_lexer": "ipython3",
   "version": "3.6.9"
  }
 },
 "nbformat": 4,
 "nbformat_minor": 2
}
